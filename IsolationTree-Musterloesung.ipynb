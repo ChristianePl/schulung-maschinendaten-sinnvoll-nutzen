{
 "cells": [
  {
   "cell_type": "markdown",
   "metadata": {},
   "source": [
    "**Einlesen der Daten**"
   ]
  },
  {
   "cell_type": "code",
   "execution_count": 20,
   "metadata": {},
   "outputs": [],
   "source": [
    "import pandas as pd\n",
    "\n",
    "df = pd.read_csv(\"trainingsdaten_ohne_vibration.csv\", encoding = \"ISO-8859-1\")\n",
    "df_test = pd.read_csv(\"testdaten_mit_vibration.csv\", encoding = \"ISO-8859-1\")"
   ]
  },
  {
   "cell_type": "markdown",
   "metadata": {},
   "source": [
    "**Trainingsdaten anschauen**"
   ]
  },
  {
   "cell_type": "code",
   "execution_count": 21,
   "metadata": {},
   "outputs": [
    {
     "data": {
      "text/html": [
       "<div>\n",
       "<style scoped>\n",
       "    .dataframe tbody tr th:only-of-type {\n",
       "        vertical-align: middle;\n",
       "    }\n",
       "\n",
       "    .dataframe tbody tr th {\n",
       "        vertical-align: top;\n",
       "    }\n",
       "\n",
       "    .dataframe thead th {\n",
       "        text-align: right;\n",
       "    }\n",
       "</style>\n",
       "<table border=\"1\" class=\"dataframe\">\n",
       "  <thead>\n",
       "    <tr style=\"text-align: right;\">\n",
       "      <th></th>\n",
       "      <th>Time</th>\n",
       "      <th>AmplitudeBandWidth</th>\n",
       "      <th>AmplitudeMean</th>\n",
       "      <th>NumberOverload</th>\n",
       "      <th>NumberUnderloads</th>\n",
       "      <th>StabilizationTime</th>\n",
       "    </tr>\n",
       "  </thead>\n",
       "  <tbody>\n",
       "    <tr>\n",
       "      <th>0</th>\n",
       "      <td>2018-04-11 18:19:38</td>\n",
       "      <td>7.417</td>\n",
       "      <td>2.098</td>\n",
       "      <td>0</td>\n",
       "      <td>0</td>\n",
       "      <td>3214</td>\n",
       "    </tr>\n",
       "    <tr>\n",
       "      <th>1</th>\n",
       "      <td>2018-04-11 18:19:46</td>\n",
       "      <td>0.726</td>\n",
       "      <td>0.402</td>\n",
       "      <td>0</td>\n",
       "      <td>0</td>\n",
       "      <td>3339</td>\n",
       "    </tr>\n",
       "    <tr>\n",
       "      <th>2</th>\n",
       "      <td>2018-04-11 18:19:57</td>\n",
       "      <td>6.061</td>\n",
       "      <td>2.092</td>\n",
       "      <td>0</td>\n",
       "      <td>0</td>\n",
       "      <td>3167</td>\n",
       "    </tr>\n",
       "    <tr>\n",
       "      <th>3</th>\n",
       "      <td>2018-04-11 18:20:10</td>\n",
       "      <td>0.716</td>\n",
       "      <td>0.298</td>\n",
       "      <td>0</td>\n",
       "      <td>0</td>\n",
       "      <td>3261</td>\n",
       "    </tr>\n",
       "    <tr>\n",
       "      <th>4</th>\n",
       "      <td>2018-04-11 18:20:14</td>\n",
       "      <td>0.638</td>\n",
       "      <td>0.578</td>\n",
       "      <td>0</td>\n",
       "      <td>0</td>\n",
       "      <td>3011</td>\n",
       "    </tr>\n",
       "  </tbody>\n",
       "</table>\n",
       "</div>"
      ],
      "text/plain": [
       "                  Time  AmplitudeBandWidth  AmplitudeMean  NumberOverload  \\\n",
       "0  2018-04-11 18:19:38               7.417          2.098               0   \n",
       "1  2018-04-11 18:19:46               0.726          0.402               0   \n",
       "2  2018-04-11 18:19:57               6.061          2.092               0   \n",
       "3  2018-04-11 18:20:10               0.716          0.298               0   \n",
       "4  2018-04-11 18:20:14               0.638          0.578               0   \n",
       "\n",
       "   NumberUnderloads  StabilizationTime  \n",
       "0                 0               3214  \n",
       "1                 0               3339  \n",
       "2                 0               3167  \n",
       "3                 0               3261  \n",
       "4                 0               3011  "
      ]
     },
     "execution_count": 21,
     "metadata": {},
     "output_type": "execute_result"
    }
   ],
   "source": [
    "df.head()"
   ]
  },
  {
   "cell_type": "markdown",
   "metadata": {},
   "source": [
    "**Testdaten anschauen**"
   ]
  },
  {
   "cell_type": "code",
   "execution_count": 22,
   "metadata": {},
   "outputs": [
    {
     "data": {
      "text/html": [
       "<div>\n",
       "<style scoped>\n",
       "    .dataframe tbody tr th:only-of-type {\n",
       "        vertical-align: middle;\n",
       "    }\n",
       "\n",
       "    .dataframe tbody tr th {\n",
       "        vertical-align: top;\n",
       "    }\n",
       "\n",
       "    .dataframe thead th {\n",
       "        text-align: right;\n",
       "    }\n",
       "</style>\n",
       "<table border=\"1\" class=\"dataframe\">\n",
       "  <thead>\n",
       "    <tr style=\"text-align: right;\">\n",
       "      <th></th>\n",
       "      <th>Time</th>\n",
       "      <th>AmplitudeBandWidth</th>\n",
       "      <th>AmplitudeMean</th>\n",
       "      <th>NumberOverload</th>\n",
       "      <th>NumberUnderloads</th>\n",
       "      <th>StabilizationTime</th>\n",
       "      <th>VibrationMotorOn</th>\n",
       "    </tr>\n",
       "  </thead>\n",
       "  <tbody>\n",
       "    <tr>\n",
       "      <th>0</th>\n",
       "      <td>Thu Apr 12 2018 08:51:52 GMT+0200 (Mitteleurop...</td>\n",
       "      <td>36.285</td>\n",
       "      <td>12.502</td>\n",
       "      <td>0</td>\n",
       "      <td>0</td>\n",
       "      <td>3230</td>\n",
       "      <td>True</td>\n",
       "    </tr>\n",
       "    <tr>\n",
       "      <th>1</th>\n",
       "      <td>Thu Apr 12 2018 08:52:07 GMT+0200 (Mitteleurop...</td>\n",
       "      <td>71.899</td>\n",
       "      <td>24.918</td>\n",
       "      <td>0</td>\n",
       "      <td>0</td>\n",
       "      <td>3199</td>\n",
       "      <td>True</td>\n",
       "    </tr>\n",
       "    <tr>\n",
       "      <th>2</th>\n",
       "      <td>Thu Apr 12 2018 08:52:20 GMT+0200 (Mitteleurop...</td>\n",
       "      <td>543.236</td>\n",
       "      <td>474.136</td>\n",
       "      <td>0</td>\n",
       "      <td>0</td>\n",
       "      <td>4041</td>\n",
       "      <td>True</td>\n",
       "    </tr>\n",
       "    <tr>\n",
       "      <th>3</th>\n",
       "      <td>Thu Apr 12 2018 08:52:30 GMT+0200 (Mitteleurop...</td>\n",
       "      <td>44.625</td>\n",
       "      <td>15.188</td>\n",
       "      <td>0</td>\n",
       "      <td>0</td>\n",
       "      <td>5055</td>\n",
       "      <td>True</td>\n",
       "    </tr>\n",
       "    <tr>\n",
       "      <th>4</th>\n",
       "      <td>Thu Apr 12 2018 08:52:42 GMT+0200 (Mitteleurop...</td>\n",
       "      <td>34.323</td>\n",
       "      <td>11.074</td>\n",
       "      <td>0</td>\n",
       "      <td>0</td>\n",
       "      <td>3089</td>\n",
       "      <td>True</td>\n",
       "    </tr>\n",
       "  </tbody>\n",
       "</table>\n",
       "</div>"
      ],
      "text/plain": [
       "                                                Time  AmplitudeBandWidth  \\\n",
       "0  Thu Apr 12 2018 08:51:52 GMT+0200 (Mitteleurop...              36.285   \n",
       "1  Thu Apr 12 2018 08:52:07 GMT+0200 (Mitteleurop...              71.899   \n",
       "2  Thu Apr 12 2018 08:52:20 GMT+0200 (Mitteleurop...             543.236   \n",
       "3  Thu Apr 12 2018 08:52:30 GMT+0200 (Mitteleurop...              44.625   \n",
       "4  Thu Apr 12 2018 08:52:42 GMT+0200 (Mitteleurop...              34.323   \n",
       "\n",
       "   AmplitudeMean  NumberOverload  NumberUnderloads  StabilizationTime  \\\n",
       "0         12.502               0                 0               3230   \n",
       "1         24.918               0                 0               3199   \n",
       "2        474.136               0                 0               4041   \n",
       "3         15.188               0                 0               5055   \n",
       "4         11.074               0                 0               3089   \n",
       "\n",
       "   VibrationMotorOn  \n",
       "0              True  \n",
       "1              True  \n",
       "2              True  \n",
       "3              True  \n",
       "4              True  "
      ]
     },
     "execution_count": 22,
     "metadata": {},
     "output_type": "execute_result"
    }
   ],
   "source": [
    "df_test.head()"
   ]
  },
  {
   "cell_type": "markdown",
   "metadata": {},
   "source": [
    "***Time* löschen**"
   ]
  },
  {
   "cell_type": "code",
   "execution_count": 23,
   "metadata": {},
   "outputs": [],
   "source": [
    "del df[\"Time\"]\n",
    "del df_test[\"Time\"]"
   ]
  },
  {
   "cell_type": "markdown",
   "metadata": {},
   "source": [
    "**Deskriptive Statistik (Trainingsdaten)**"
   ]
  },
  {
   "cell_type": "code",
   "execution_count": 24,
   "metadata": {},
   "outputs": [
    {
     "data": {
      "text/html": [
       "<div>\n",
       "<style scoped>\n",
       "    .dataframe tbody tr th:only-of-type {\n",
       "        vertical-align: middle;\n",
       "    }\n",
       "\n",
       "    .dataframe tbody tr th {\n",
       "        vertical-align: top;\n",
       "    }\n",
       "\n",
       "    .dataframe thead th {\n",
       "        text-align: right;\n",
       "    }\n",
       "</style>\n",
       "<table border=\"1\" class=\"dataframe\">\n",
       "  <thead>\n",
       "    <tr style=\"text-align: right;\">\n",
       "      <th></th>\n",
       "      <th>AmplitudeBandWidth</th>\n",
       "      <th>AmplitudeMean</th>\n",
       "      <th>NumberOverload</th>\n",
       "      <th>NumberUnderloads</th>\n",
       "      <th>StabilizationTime</th>\n",
       "    </tr>\n",
       "  </thead>\n",
       "  <tbody>\n",
       "    <tr>\n",
       "      <th>count</th>\n",
       "      <td>2090.000000</td>\n",
       "      <td>2090.000000</td>\n",
       "      <td>2090.0</td>\n",
       "      <td>2090.0</td>\n",
       "      <td>2090.000000</td>\n",
       "    </tr>\n",
       "    <tr>\n",
       "      <th>mean</th>\n",
       "      <td>1.159642</td>\n",
       "      <td>0.519354</td>\n",
       "      <td>0.0</td>\n",
       "      <td>0.0</td>\n",
       "      <td>4130.505742</td>\n",
       "    </tr>\n",
       "    <tr>\n",
       "      <th>std</th>\n",
       "      <td>1.760196</td>\n",
       "      <td>0.676685</td>\n",
       "      <td>0.0</td>\n",
       "      <td>0.0</td>\n",
       "      <td>773.941131</td>\n",
       "    </tr>\n",
       "    <tr>\n",
       "      <th>min</th>\n",
       "      <td>0.000000</td>\n",
       "      <td>0.000000</td>\n",
       "      <td>0.0</td>\n",
       "      <td>0.0</td>\n",
       "      <td>3011.000000</td>\n",
       "    </tr>\n",
       "    <tr>\n",
       "      <th>25%</th>\n",
       "      <td>0.320000</td>\n",
       "      <td>0.168000</td>\n",
       "      <td>0.0</td>\n",
       "      <td>0.0</td>\n",
       "      <td>3245.000000</td>\n",
       "    </tr>\n",
       "    <tr>\n",
       "      <th>50%</th>\n",
       "      <td>0.471000</td>\n",
       "      <td>0.254000</td>\n",
       "      <td>0.0</td>\n",
       "      <td>0.0</td>\n",
       "      <td>4462.000000</td>\n",
       "    </tr>\n",
       "    <tr>\n",
       "      <th>75%</th>\n",
       "      <td>0.830250</td>\n",
       "      <td>0.416000</td>\n",
       "      <td>0.0</td>\n",
       "      <td>0.0</td>\n",
       "      <td>4837.000000</td>\n",
       "    </tr>\n",
       "    <tr>\n",
       "      <th>max</th>\n",
       "      <td>18.418000</td>\n",
       "      <td>7.834000</td>\n",
       "      <td>0.0</td>\n",
       "      <td>0.0</td>\n",
       "      <td>6927.000000</td>\n",
       "    </tr>\n",
       "  </tbody>\n",
       "</table>\n",
       "</div>"
      ],
      "text/plain": [
       "       AmplitudeBandWidth  AmplitudeMean  NumberOverload  NumberUnderloads  \\\n",
       "count         2090.000000    2090.000000          2090.0            2090.0   \n",
       "mean             1.159642       0.519354             0.0               0.0   \n",
       "std              1.760196       0.676685             0.0               0.0   \n",
       "min              0.000000       0.000000             0.0               0.0   \n",
       "25%              0.320000       0.168000             0.0               0.0   \n",
       "50%              0.471000       0.254000             0.0               0.0   \n",
       "75%              0.830250       0.416000             0.0               0.0   \n",
       "max             18.418000       7.834000             0.0               0.0   \n",
       "\n",
       "       StabilizationTime  \n",
       "count        2090.000000  \n",
       "mean         4130.505742  \n",
       "std           773.941131  \n",
       "min          3011.000000  \n",
       "25%          3245.000000  \n",
       "50%          4462.000000  \n",
       "75%          4837.000000  \n",
       "max          6927.000000  "
      ]
     },
     "execution_count": 24,
     "metadata": {},
     "output_type": "execute_result"
    }
   ],
   "source": [
    "df.describe()"
   ]
  },
  {
   "cell_type": "markdown",
   "metadata": {},
   "source": [
    "**Deskriptive Statistik (Testdaten)**"
   ]
  },
  {
   "cell_type": "code",
   "execution_count": 25,
   "metadata": {},
   "outputs": [
    {
     "data": {
      "text/html": [
       "<div>\n",
       "<style scoped>\n",
       "    .dataframe tbody tr th:only-of-type {\n",
       "        vertical-align: middle;\n",
       "    }\n",
       "\n",
       "    .dataframe tbody tr th {\n",
       "        vertical-align: top;\n",
       "    }\n",
       "\n",
       "    .dataframe thead th {\n",
       "        text-align: right;\n",
       "    }\n",
       "</style>\n",
       "<table border=\"1\" class=\"dataframe\">\n",
       "  <thead>\n",
       "    <tr style=\"text-align: right;\">\n",
       "      <th></th>\n",
       "      <th>AmplitudeBandWidth</th>\n",
       "      <th>AmplitudeMean</th>\n",
       "      <th>NumberOverload</th>\n",
       "      <th>NumberUnderloads</th>\n",
       "      <th>StabilizationTime</th>\n",
       "    </tr>\n",
       "  </thead>\n",
       "  <tbody>\n",
       "    <tr>\n",
       "      <th>count</th>\n",
       "      <td>187.000000</td>\n",
       "      <td>187.000000</td>\n",
       "      <td>187.0</td>\n",
       "      <td>187.0</td>\n",
       "      <td>187.000000</td>\n",
       "    </tr>\n",
       "    <tr>\n",
       "      <th>mean</th>\n",
       "      <td>70.186679</td>\n",
       "      <td>32.865059</td>\n",
       "      <td>0.0</td>\n",
       "      <td>0.0</td>\n",
       "      <td>4148.048128</td>\n",
       "    </tr>\n",
       "    <tr>\n",
       "      <th>std</th>\n",
       "      <td>123.702463</td>\n",
       "      <td>87.268628</td>\n",
       "      <td>0.0</td>\n",
       "      <td>0.0</td>\n",
       "      <td>1364.414429</td>\n",
       "    </tr>\n",
       "    <tr>\n",
       "      <th>min</th>\n",
       "      <td>0.061000</td>\n",
       "      <td>0.042000</td>\n",
       "      <td>0.0</td>\n",
       "      <td>0.0</td>\n",
       "      <td>2481.000000</td>\n",
       "    </tr>\n",
       "    <tr>\n",
       "      <th>25%</th>\n",
       "      <td>29.116000</td>\n",
       "      <td>9.063000</td>\n",
       "      <td>0.0</td>\n",
       "      <td>0.0</td>\n",
       "      <td>3050.500000</td>\n",
       "    </tr>\n",
       "    <tr>\n",
       "      <th>50%</th>\n",
       "      <td>38.549000</td>\n",
       "      <td>12.502000</td>\n",
       "      <td>0.0</td>\n",
       "      <td>0.0</td>\n",
       "      <td>3760.000000</td>\n",
       "    </tr>\n",
       "    <tr>\n",
       "      <th>75%</th>\n",
       "      <td>51.010500</td>\n",
       "      <td>17.995000</td>\n",
       "      <td>0.0</td>\n",
       "      <td>0.0</td>\n",
       "      <td>4704.000000</td>\n",
       "    </tr>\n",
       "    <tr>\n",
       "      <th>max</th>\n",
       "      <td>580.684000</td>\n",
       "      <td>496.094000</td>\n",
       "      <td>0.0</td>\n",
       "      <td>0.0</td>\n",
       "      <td>8815.000000</td>\n",
       "    </tr>\n",
       "  </tbody>\n",
       "</table>\n",
       "</div>"
      ],
      "text/plain": [
       "       AmplitudeBandWidth  AmplitudeMean  NumberOverload  NumberUnderloads  \\\n",
       "count          187.000000     187.000000           187.0             187.0   \n",
       "mean            70.186679      32.865059             0.0               0.0   \n",
       "std            123.702463      87.268628             0.0               0.0   \n",
       "min              0.061000       0.042000             0.0               0.0   \n",
       "25%             29.116000       9.063000             0.0               0.0   \n",
       "50%             38.549000      12.502000             0.0               0.0   \n",
       "75%             51.010500      17.995000             0.0               0.0   \n",
       "max            580.684000     496.094000             0.0               0.0   \n",
       "\n",
       "       StabilizationTime  \n",
       "count         187.000000  \n",
       "mean         4148.048128  \n",
       "std          1364.414429  \n",
       "min          2481.000000  \n",
       "25%          3050.500000  \n",
       "50%          3760.000000  \n",
       "75%          4704.000000  \n",
       "max          8815.000000  "
      ]
     },
     "execution_count": 25,
     "metadata": {},
     "output_type": "execute_result"
    }
   ],
   "source": [
    "df_test.describe()"
   ]
  },
  {
   "cell_type": "markdown",
   "metadata": {},
   "source": [
    "**Daten visualisieren**"
   ]
  },
  {
   "cell_type": "code",
   "execution_count": 26,
   "metadata": {},
   "outputs": [
    {
     "data": {
      "image/png": "[encoded data removed]",
      "text/plain": [
       "<Figure size 432x288 with 6 Axes>"
      ]
     },
     "metadata": {
      "needs_background": "light"
     },
     "output_type": "display_data"
    }
   ],
   "source": [
    "import matplotlib.pyplot as plt\n",
    "\n",
    "df.plot(subplots=True, layout=(3,2), legend=False)\n",
    "plt.show()"
   ]
  },
  {
   "cell_type": "code",
   "execution_count": 27,
   "metadata": {},
   "outputs": [
    {
     "data": {
      "image/png": "[encoded data removed]",
      "text/plain": [
       "<Figure size 432x288 with 6 Axes>"
      ]
     },
     "metadata": {
      "needs_background": "light"
     },
     "output_type": "display_data"
    }
   ],
   "source": [
    "df_test.plot(subplots=True, layout=(3,2), legend=False)\n",
    "plt.show()"
   ]
  },
  {
   "cell_type": "markdown",
   "metadata": {},
   "source": [
    "**Datenvorverarbeitung**"
   ]
  },
  {
   "cell_type": "code",
   "execution_count": 28,
   "metadata": {},
   "outputs": [],
   "source": [
    "# 2 Spalten enthalten keine Information -> löschen\n",
    "df = df.drop(['NumberOverload', 'NumberUnderloads'], 1)\n",
    "df_test = df_test.drop(['NumberOverload', 'NumberUnderloads'], 1)"
   ]
  },
  {
   "cell_type": "markdown",
   "metadata": {},
   "source": [
    "**Test- und Trainingsdaten festlegen**"
   ]
  },
  {
   "cell_type": "code",
   "execution_count": 29,
   "metadata": {},
   "outputs": [],
   "source": [
    "X_train = df\n",
    "X_test = df_test[['AmplitudeBandWidth', 'AmplitudeMean', 'StabilizationTime']].copy()\n",
    "y_test = df_test[['VibrationMotorOn']].copy()"
   ]
  },
  {
   "cell_type": "markdown",
   "metadata": {},
   "source": [
    "**Modell trainieren**"
   ]
  },
  {
   "cell_type": "code",
   "execution_count": 30,
   "metadata": {},
   "outputs": [],
   "source": [
    "from sklearn.ensemble import IsolationForest\n",
    "\n",
    "# Modell fitten\n",
    "clf = IsolationForest(random_state=42)\n",
    "clf.fit(X_train)\n",
    "\n",
    "new_column = pd.DataFrame(columns = [\"Anomaly\"])\n",
    "# Vorhersage des Modells\n",
    "for k in range(len(X_test)):\n",
    "    temp = clf.predict([[X_test[\"AmplitudeBandWidth\"][k], X_test[\"AmplitudeMean\"][k], X_test[\"StabilizationTime\"][k]]])[0]\n",
    "    new_column = new_column.append({\"Anomaly\": temp}, ignore_index = True)\n",
    "\n",
    "# Vorhersage des Modells auf 1/0 recodieren\n",
    "new_column['Anomaly'] = new_column['Anomaly'].map( {1: 0, -1: 1} )"
   ]
  },
  {
   "cell_type": "markdown",
   "metadata": {},
   "source": [
    "**Metriken ausgeben**"
   ]
  },
  {
   "cell_type": "code",
   "execution_count": 40,
   "metadata": {},
   "outputs": [
    {
     "name": "stdout",
     "output_type": "stream",
     "text": [
      "Accuracy: \n",
      "0.9732620320855615\n",
      "Classification Report:\n",
      "             precision    recall  f1-score   support\n",
      "\n",
      "      False       0.78      0.70      0.74        10\n",
      "       True       0.98      0.99      0.99       177\n",
      "\n",
      "avg / total       0.97      0.97      0.97       187\n",
      "\n",
      "Confusion Matrix:\n",
      "[[  7   3]\n",
      " [  2 175]]\n"
     ]
    }
   ],
   "source": [
    "from sklearn import metrics\n",
    "\n",
    "print (\"Accuracy: \")\n",
    "print (metrics.accuracy_score(y_test, new_column))\n",
    "print (\"Classification Report:\")\n",
    "print (metrics.classification_report(y_test, new_column))\n",
    "print (\"Confusion Matrix:\")\n",
    "print (metrics.confusion_matrix(y_test, new_column))  "
   ]
  },
  {
   "cell_type": "markdown",
   "metadata": {},
   "source": [
    "**Daten zusammenführen für Visualisierung**"
   ]
  },
  {
   "cell_type": "code",
   "execution_count": 32,
   "metadata": {},
   "outputs": [],
   "source": [
    "complete_data = X_test.copy()\n",
    "complete_data['VibrationMotorOn'] = y_test['VibrationMotorOn']\n",
    "complete_data['Anomaly'] = new_column.values"
   ]
  },
  {
   "cell_type": "markdown",
   "metadata": {
    "collapsed": true
   },
   "source": [
    "**Farben für Visualisierung einfügen**"
   ]
  },
  {
   "cell_type": "code",
   "execution_count": 33,
   "metadata": {},
   "outputs": [],
   "source": [
    "complete_data[\"color\"] = 0\n",
    "for idx,row in complete_data.iterrows():\n",
    "    label_true = complete_data.loc[idx,\"VibrationMotorOn\"]\n",
    "    label_pred = complete_data.loc[idx,\"Anomaly\"]\n",
    "    if  label_true == True:\n",
    "        if  label_pred == True:\n",
    "            complete_data.loc[idx,\"color\"] = \"blue\"\n",
    "        else:\n",
    "            complete_data.loc[idx,\"color\"] = \"green\"\n",
    "    else:\n",
    "        if label_pred == False:\n",
    "            complete_data.loc[idx,\"color\"] = \"red\"            \n",
    "        else:\n",
    "            complete_data.loc[idx,\"color\"] = \"yellow\""
   ]
  },
  {
   "cell_type": "markdown",
   "metadata": {
    "collapsed": true
   },
   "source": [
    "**Visualisierung der Konfusionsmatrix**"
   ]
  },
  {
   "cell_type": "code",
   "execution_count": 41,
   "metadata": {},
   "outputs": [
    {
     "data": {
      "image/png": "[encoded data removed]",
      "text/plain": [
       "<Figure size 432x288 with 1 Axes>"
      ]
     },
     "metadata": {
      "needs_background": "light"
     },
     "output_type": "display_data"
    }
   ],
   "source": [
    "fig, ax = plt.subplots()\n",
    "a = complete_data.copy()\n",
    "\n",
    "ax.scatter(a.loc[a.color == 'blue'].index,a.loc[a.color == 'blue',['AmplitudeBandWidth', 'AmplitudeMean', 'StabilizationTime']].mean(axis=1), color='blue', label='True positive')\n",
    "ax.scatter(a.loc[a.color == 'green'].index,a.loc[a.color == 'green',['AmplitudeBandWidth', 'AmplitudeMean', 'StabilizationTime']].mean(axis=1), color='green', label='False negative')\n",
    "ax.scatter(a.loc[a.color == 'red'].index,a.loc[a.color == 'red',['AmplitudeBandWidth', 'AmplitudeMean', 'StabilizationTime']].mean(axis=1), color='red', label='True negative')\n",
    "ax.scatter(a.loc[a.color == 'yellow'].index,a.loc[a.color == 'yellow',['AmplitudeBandWidth', 'AmplitudeMean', 'StabilizationTime']].mean(axis=1), color='yellow', label='False positive')\n",
    "\n",
    "plt.legend()\n",
    "plt.show()"
   ]
  },
  {
   "cell_type": "code",
   "execution_count": null,
   "metadata": {},
   "outputs": [],
   "source": []
  }
 ],
 "metadata": {
  "anaconda-cloud": {},
  "kernelspec": {
   "display_name": "Python [conda env:Anaconda2]",
   "language": "python",
   "name": "conda-env-Anaconda2-py"
  },
  "language_info": {
   "codemirror_mode": {
    "name": "ipython",
    "version": 2
   },
   "file_extension": ".py",
   "mimetype": "text/x-python",
   "name": "python",
   "nbconvert_exporter": "python",
   "pygments_lexer": "ipython2",
   "version": "2.7.15"
  }
 },
 "nbformat": 4,
 "nbformat_minor": 2
}
