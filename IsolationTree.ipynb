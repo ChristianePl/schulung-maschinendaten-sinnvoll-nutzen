{
 "cells": [
  {
   "cell_type": "markdown",
   "metadata": {},
   "source": [
    "**Einlesen der Daten**"
   ]
  },
  {
   "cell_type": "code",
   "execution_count": null,
   "metadata": {
    "collapsed": false
   },
   "outputs": [],
   "source": [
    "import pandas as pd\n",
    "\n",
    "df = pd.read_csv(\"trainingsdaten_ohne_vibration.csv\", encoding = \"ISO-8859-1\")\n",
    "df_test = pd.read_csv(\"testdaten_mit_vibration.csv\", encoding = \"ISO-8859-1\")"
   ]
  },
  {
   "cell_type": "markdown",
   "metadata": {},
   "source": [
    "**Trainingsdaten anschauen**"
   ]
  },
  {
   "cell_type": "code",
   "execution_count": null,
   "metadata": {
    "collapsed": false
   },
   "outputs": [],
   "source": [
    "df.head()"
   ]
  },
  {
   "cell_type": "markdown",
   "metadata": {},
   "source": [
    "**Testdaten anschauen**"
   ]
  },
  {
   "cell_type": "code",
   "execution_count": null,
   "metadata": {
    "collapsed": false
   },
   "outputs": [],
   "source": [
    "df_test.head()"
   ]
  },
  {
   "cell_type": "markdown",
   "metadata": {},
   "source": [
    "** *Time* löschen**"
   ]
  },
  {
   "cell_type": "code",
   "execution_count": null,
   "metadata": {
    "collapsed": true
   },
   "outputs": [],
   "source": [
    "del df[\"Time\"]\n",
    "del df_test[\"Time\"]"
   ]
  },
  {
   "cell_type": "markdown",
   "metadata": {},
   "source": [
    "**Deskriptive Statistik (Trainingsdaten)**"
   ]
  },
  {
   "cell_type": "code",
   "execution_count": null,
   "metadata": {
    "collapsed": false
   },
   "outputs": [],
   "source": [
    "df.describe()"
   ]
  },
  {
   "cell_type": "markdown",
   "metadata": {},
   "source": [
    "**Deskriptive Statistik (Testdaten)**"
   ]
  },
  {
   "cell_type": "code",
   "execution_count": null,
   "metadata": {
    "collapsed": false
   },
   "outputs": [],
   "source": [
    "df_test.describe()"
   ]
  },
  {
   "cell_type": "markdown",
   "metadata": {},
   "source": [
    "**Visualize data**"
   ]
  },
  {
   "cell_type": "code",
   "execution_count": null,
   "metadata": {
    "collapsed": false
   },
   "outputs": [],
   "source": [
    "import matplotlib.pyplot as plt\n",
    "\n",
    "df.plot(subplots=True, layout=(3,2), legend=False)\n",
    "plt.show()"
   ]
  },
  {
   "cell_type": "code",
   "execution_count": null,
   "metadata": {
    "collapsed": false
   },
   "outputs": [],
   "source": [
    "df_test.plot(subplots=True, layout=(3,2), legend=False)\n",
    "plt.show()"
   ]
  },
  {
   "cell_type": "markdown",
   "metadata": {},
   "source": [
    "**Datenvorverarbeitung**"
   ]
  },
  {
   "cell_type": "code",
   "execution_count": null,
   "metadata": {
    "collapsed": false
   },
   "outputs": [],
   "source": [
    "# 2 Spalten enthalten keine Information -> Löschen\n",
    "df = df.drop(['NumberOverload', 'NumberUnderloads'], 1)\n",
    "df_test = df_test.drop(['NumberOverload', 'NumberUnderloads'], 1)"
   ]
  },
  {
   "cell_type": "markdown",
   "metadata": {},
   "source": [
    "**Test- und Trainingsdaten festlegen**"
   ]
  },
  {
   "cell_type": "code",
   "execution_count": null,
   "metadata": {
    "collapsed": true
   },
   "outputs": [],
   "source": [
    "X_train = df\n",
    "X_test = df_test[['AmplitudeBandWidth', 'AmplitudeMean', 'StabilizationTime']].copy()\n",
    "y_test = df_test[['VibrationMotorOn']].copy()"
   ]
  },
  {
   "cell_type": "markdown",
   "metadata": {},
   "source": [
    "**Modell trainieren**"
   ]
  },
  {
   "cell_type": "code",
   "execution_count": null,
   "metadata": {
    "collapsed": false
   },
   "outputs": [],
   "source": [
    "from sklearn.ensemble import IsolationForest\n",
    "\n",
    "# Modell fitten\n",
    "clf = IsolationForest()\n",
    "clf.fit(X_train)\n",
    "y_pred_train = clf.predict(X_train)\n",
    "y_pred_test = clf.predict(X_test)\n",
    "\n",
    "new_column = pd.DataFrame(columns = [\"Anomaly\"])\n",
    "# Vorhersage des Modells\n",
    "for k in range(len(X_test)):\n",
    "    temp = clf.predict([[X_test[\"AmplitudeBandWidth\"][k], X_test[\"AmplitudeMean\"][k], X_test[\"StabilizationTime\"][k]]])[0]\n",
    "    new_column = new_column.append({\"Anomaly\": temp}, ignore_index = True)\n",
    "\n",
    "# Vorhersage des Modells auf 1/0 recodieren\n",
    "new_column['Anomaly'] = new_column['Anomaly'].map( {1: 0, -1: 1} )"
   ]
  },
  {
   "cell_type": "markdown",
   "metadata": {},
   "source": [
    "**Metriken ausgeben**"
   ]
  },
  {
   "cell_type": "code",
   "execution_count": null,
   "metadata": {
    "collapsed": false
   },
   "outputs": [],
   "source": [
    "from sklearn import metrics\n",
    "\n",
    "print(\"Accuracy: \", metrics.accuracy_score(y_test, new_column))  \n",
    "print(\"Precision: \", metrics.precision_score(y_test, new_column))  \n",
    "print(\"Recall: \", metrics.recall_score(y_test, new_column))  \n",
    "print(\"F1: \", metrics.f1_score(y_test, new_column))  \n",
    "print(\"Confusion Matrix:\")\n",
    "print(metrics.confusion_matrix(y_test, new_column))  "
   ]
  },
  {
   "cell_type": "markdown",
   "metadata": {},
   "source": [
    "**Daten zusammenführen für Visualisierung**"
   ]
  },
  {
   "cell_type": "code",
   "execution_count": null,
   "metadata": {
    "collapsed": true
   },
   "outputs": [],
   "source": [
    "complete_data = X_test.copy()\n",
    "complete_data['VibrationMotorOn'] = y_test['VibrationMotorOn']\n",
    "complete_data['Anomaly'] = new_column.values"
   ]
  },
  {
   "cell_type": "markdown",
   "metadata": {},
   "source": [
    "**Visualisieren der Vorhersagen**"
   ]
  },
  {
   "cell_type": "code",
   "execution_count": null,
   "metadata": {
    "collapsed": false
   },
   "outputs": [],
   "source": [
    "from matplotlib import pyplot as plt\n",
    "\n",
    "fig, ax = plt.subplots()\n",
    "a = complete_data[['AmplitudeBandWidth', 'AmplitudeMean', 'StabilizationTime']].loc[complete_data['Anomaly'] == 1] # Anomalie vorhergesagt\n",
    "n = complete_data[['AmplitudeBandWidth', 'AmplitudeMean', 'StabilizationTime']].loc[complete_data['Anomaly'] == 0] # Normalwert vorhergesagt\n",
    "\n",
    "ax.scatter(a.index,a.mean(axis=1), color='red', label='Anomalie vorhergesagt')\n",
    "ax.scatter(n.index,n.mean(axis=1), color='green', label='Normalwert vorhergesagt')\n",
    "\n",
    "plt.legend()\n",
    "plt.show()"
   ]
  },
  {
   "cell_type": "markdown",
   "metadata": {},
   "source": [
    "**Visualisieren der tatsächlichen Anomalien**"
   ]
  },
  {
   "cell_type": "code",
   "execution_count": null,
   "metadata": {
    "collapsed": false
   },
   "outputs": [],
   "source": [
    "fig, ax = plt.subplots()\n",
    "a = complete_data[['AmplitudeBandWidth', 'AmplitudeMean', 'StabilizationTime']].loc[complete_data['VibrationMotorOn'] == 1] #true anomaly\n",
    "n = complete_data[['AmplitudeBandWidth', 'AmplitudeMean', 'StabilizationTime']].loc[complete_data['VibrationMotorOn'] == 0] #true normal\n",
    "\n",
    "ax.scatter(a.index,a.mean(axis=1), color='red', label='Tatsaechliche Anomalie')\n",
    "ax.scatter(n.index,n.mean(axis=1), color='green', label='Tatsaechlicher Normalwert')\n",
    "\n",
    "plt.legend()\n",
    "plt.show()"
   ]
  },
  {
   "cell_type": "code",
   "execution_count": null,
   "metadata": {
    "collapsed": true
   },
   "outputs": [],
   "source": []
  },
  {
   "cell_type": "code",
   "execution_count": null,
   "metadata": {
    "collapsed": true
   },
   "outputs": [],
   "source": []
  }
 ],
 "metadata": {
  "anaconda-cloud": {},
  "kernelspec": {
   "display_name": "Python [conda root]",
   "language": "python",
   "name": "conda-root-py"
  },
  "language_info": {
   "codemirror_mode": {
    "name": "ipython",
    "version": 2
   },
   "file_extension": ".py",
   "mimetype": "text/x-python",
   "name": "python",
   "nbconvert_exporter": "python",
   "pygments_lexer": "ipython2",
   "version": "2.7.12"
  }
 },
 "nbformat": 4,
 "nbformat_minor": 2
}
