{
 "cells": [
  {
   "cell_type": "markdown",
   "metadata": {},
   "source": [
    "**Einlesen der Daten**"
   ]
  },
  {
   "cell_type": "code",
   "execution_count": null,
   "metadata": {},
   "outputs": [],
   "source": [
    "# TODO: pandas importieren\n",
    "\n",
    "# TODO: Daten aus csv-Datei in Pandas Dataframe einlesen\n",
    "df_test = pd.read_csv(\"testdaten_mit_vibration.csv\", encoding = \"ISO-8859-1\")"
   ]
  },
  {
   "cell_type": "markdown",
   "metadata": {},
   "source": [
    "**Trainingsdaten anschauen**"
   ]
  },
  {
   "cell_type": "code",
   "execution_count": null,
   "metadata": {},
   "outputs": [],
   "source": [
    "# TODO: Trainingsdaten"
   ]
  },
  {
   "cell_type": "markdown",
   "metadata": {},
   "source": [
    "**Testdaten anschauen**"
   ]
  },
  {
   "cell_type": "code",
   "execution_count": null,
   "metadata": {},
   "outputs": [],
   "source": [
    "df_test.head()"
   ]
  },
  {
   "cell_type": "markdown",
   "metadata": {},
   "source": [
    "**Deskriptive Statistik (Trainingsdaten)**"
   ]
  },
  {
   "cell_type": "code",
   "execution_count": null,
   "metadata": {},
   "outputs": [],
   "source": [
    "df.describe()"
   ]
  },
  {
   "cell_type": "markdown",
   "metadata": {},
   "source": [
    "**Deskriptive Statistik (Testdaten)**"
   ]
  },
  {
   "cell_type": "code",
   "execution_count": null,
   "metadata": {},
   "outputs": [],
   "source": [
    "df_test.describe()"
   ]
  },
  {
   "cell_type": "markdown",
   "metadata": {},
   "source": [
    "**Daten visualisieren**"
   ]
  },
  {
   "cell_type": "code",
   "execution_count": null,
   "metadata": {},
   "outputs": [],
   "source": [
    "# TODO: pyplot importieren\n",
    "\n",
    "# TODO: Daten plotten\n",
    "plt.show()"
   ]
  },
  {
   "cell_type": "code",
   "execution_count": null,
   "metadata": {},
   "outputs": [],
   "source": [
    "df_test.plot(figsize=(10,10),subplots=True, layout=(3,2), title=\"Daten\", legend=True)\n",
    "plt.show()"
   ]
  },
  {
   "cell_type": "markdown",
   "metadata": {},
   "source": [
    "**Datenvorverarbeitung**"
   ]
  },
  {
   "cell_type": "code",
   "execution_count": null,
   "metadata": {},
   "outputs": [],
   "source": [
    "# TODO: Time löschen + 2 Spalten, die keine Information enthalten\n",
    "df_test = df_test.drop(['Time', 'NumberOverload', 'NumberUnderloads'], 1)"
   ]
  },
  {
   "cell_type": "markdown",
   "metadata": {},
   "source": [
    "**Test- und Trainingsdaten festlegen**"
   ]
  },
  {
   "cell_type": "code",
   "execution_count": null,
   "metadata": {},
   "outputs": [],
   "source": [
    "# TODO: Trainingsdaten festlegen\n",
    "\n",
    "# Testdaten festlegen\n",
    "X_test = df_test[['AmplitudeBandWidth', 'AmplitudeMean', 'StabilizationTime']].copy()\n",
    "y_test = df_test[['VibrationMotorOn']].copy()"
   ]
  },
  {
   "cell_type": "markdown",
   "metadata": {},
   "source": [
    "**Modell trainieren**"
   ]
  },
  {
   "cell_type": "code",
   "execution_count": null,
   "metadata": {},
   "outputs": [],
   "source": [
    "# TODO: IsolationForest aus sklearn importieren\n",
    "\n",
    "# TODO: Modell erstellen\n",
    "\n",
    "# TODO: Modell an Trainingsdaten anpassen (\"fit\")\n",
    "\n",
    "pred = pd.DataFrame(columns = [\"Anomaly\"])\n",
    "\n",
    "# TODO: Vorhersage des Modells\n",
    "\n",
    "# Vorhersage des Modells auf 1/0 recodieren\n",
    "pred['Anomaly'] = pred['Anomaly'].map( {1: 0, -1: 1} )"
   ]
  },
  {
   "cell_type": "markdown",
   "metadata": {},
   "source": [
    "**Metriken ausgeben**"
   ]
  },
  {
   "cell_type": "code",
   "execution_count": null,
   "metadata": {},
   "outputs": [],
   "source": [
    "from sklearn import metrics\n",
    "\n",
    "print (\"Accuracy: \")\n",
    "# TODO: Accuracy Score ausgeben\n",
    "print (\"Classification Report:\")\n",
    "# TODO: Classification Report ausgeben\n",
    "print (\"Confusion Matrix:\")\n",
    "# TODO: Confusion Matrix ausgeben  "
   ]
  },
  {
   "cell_type": "markdown",
   "metadata": {},
   "source": [
    "**Daten zusammenführen für Visualisierung**"
   ]
  },
  {
   "cell_type": "code",
   "execution_count": null,
   "metadata": {},
   "outputs": [],
   "source": [
    "complete_data = X_test.copy()\n",
    "complete_data['VibrationMotorOn'] = y_test['VibrationMotorOn']\n",
    "complete_data['Anomaly'] = pred.values"
   ]
  },
  {
   "cell_type": "markdown",
   "metadata": {
    "collapsed": true
   },
   "source": [
    "**Farben für Visualisierung einfügen**"
   ]
  },
  {
   "cell_type": "code",
   "execution_count": null,
   "metadata": {},
   "outputs": [],
   "source": [
    "complete_data[\"color\"] = 0\n",
    "for idx,row in complete_data.iterrows():\n",
    "    label_true = complete_data.loc[idx,\"VibrationMotorOn\"]\n",
    "    label_pred = complete_data.loc[idx,\"Anomaly\"]\n",
    "    if  label_true == True:\n",
    "        if  label_pred == True:\n",
    "            complete_data.loc[idx,\"color\"] = \"blue\"\n",
    "        else:\n",
    "            complete_data.loc[idx,\"color\"] = \"green\"\n",
    "    else:\n",
    "        if label_pred == False:\n",
    "            complete_data.loc[idx,\"color\"] = \"red\"            \n",
    "        else:\n",
    "            complete_data.loc[idx,\"color\"] = \"yellow\""
   ]
  },
  {
   "cell_type": "markdown",
   "metadata": {
    "collapsed": true
   },
   "source": [
    "**Visualisierung der Konfusionsmatrix**"
   ]
  },
  {
   "cell_type": "code",
   "execution_count": null,
   "metadata": {},
   "outputs": [],
   "source": [
    "fig, ax = plt.subplots()\n",
    "a = complete_data.copy()\n",
    "\n",
    "# einzelne Farben entsprechend der Konfusionsmatrix einfügen\n",
    "ax.scatter(a.loc[a.color == 'blue'].index,a.loc[a.color == 'blue',['AmplitudeBandWidth', 'AmplitudeMean', 'StabilizationTime']].mean(axis=1), color='blue', label='True positive')\n",
    "ax.scatter(a.loc[a.color == 'green'].index,a.loc[a.color == 'green',['AmplitudeBandWidth', 'AmplitudeMean', 'StabilizationTime']].mean(axis=1), color='green', label='False negative')\n",
    "ax.scatter(a.loc[a.color == 'red'].index,a.loc[a.color == 'red',['AmplitudeBandWidth', 'AmplitudeMean', 'StabilizationTime']].mean(axis=1), color='red', label='True negative')\n",
    "ax.scatter(a.loc[a.color == 'yellow'].index,a.loc[a.color == 'yellow',['AmplitudeBandWidth', 'AmplitudeMean', 'StabilizationTime']].mean(axis=1), color='yellow', label='False positive')\n",
    "\n",
    "plt.legend()\n",
    "plt.show()"
   ]
  }
 ],
 "metadata": {
  "anaconda-cloud": {},
  "kernelspec": {
   "display_name": "Python [conda env:Anaconda2]",
   "language": "python",
   "name": "conda-env-Anaconda2-py"
  },
  "language_info": {
   "codemirror_mode": {
    "name": "ipython",
    "version": 2
   },
   "file_extension": ".py",
   "mimetype": "text/x-python",
   "name": "python",
   "nbconvert_exporter": "python",
   "pygments_lexer": "ipython2",
   "version": "2.7.15"
  }
 },
 "nbformat": 4,
 "nbformat_minor": 2
}
